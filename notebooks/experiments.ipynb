{
 "cells": [
  {
   "cell_type": "markdown",
   "metadata": {
    "id": "P9tObiU-qVgv"
   },
   "source": [
    "[![Open In Colab](https://colab.research.google.com/assets/colab-badge.svg)](https://colab.research.google.com/github/ryansteed/ieat/blob/master/notebooks/experiments.ipynb)\n",
    "\n",
    "# Image GPT Bias\n",
    "**Image Embedding Association Test**\n",
    "\n",
    "Ryan Steed\n",
    "\n",
    "This script adapted from https://colab.research.google.com/github/apeguero1/image-gpt/blob/master/Transformers_Image_GPT.ipynb.\n"
   ]
  },
  {
   "cell_type": "markdown",
   "metadata": {
    "id": "fJcpjSByxvhQ",
    "pycharm": {
     "name": "#%% md\n"
    }
   },
   "source": [
    "## IATs"
   ]
  },
  {
   "cell_type": "markdown",
   "metadata": {
    "id": "rv34zwKpSHSp"
   },
   "source": [
    "### Quick Summary"
   ]
  },
  {
   "cell_type": "code",
   "execution_count": 3,
   "metadata": {
    "colab": {
     "base_uri": "https://localhost:8080/",
     "height": 562
    },
    "id": "vLl9AC5nSHSp",
    "outputId": "b5c5697e-0c30-496c-db1e-91452870f5c4"
   },
   "outputs": [
    {
     "name": "stdout",
     "output_type": "stream",
     "text": [
      "# igpt-logit #\n",
      "## Insect-Flower ##\n",
      "## Weapon ##\n"
     ]
    },
    {
     "name": "stderr",
     "output_type": "stream",
     "text": [
      "2020-10-05 21:54:08,992 [22047] WARNING  root:225: [JupyterRequire] Equalities contributed 1/924 to p-value\n",
      "2020-10-05 21:54:09,106 [22047] WARNING  root:225: [JupyterRequire] Equalities contributed 1/924 to p-value\n"
     ]
    },
    {
     "name": "stdout",
     "output_type": "stream",
     "text": [
      "## Weapon (Modern) ##\n",
      "## Native ##\n"
     ]
    },
    {
     "name": "stderr",
     "output_type": "stream",
     "text": [
      "2020-10-05 21:54:09,389 [22047] WARNING  root:225: [JupyterRequire] Equalities contributed 1/924 to p-value\n"
     ]
    },
    {
     "name": "stdout",
     "output_type": "stream",
     "text": [
      "## Asian ##\n",
      "## Weight ##\n"
     ]
    },
    {
     "name": "stderr",
     "output_type": "stream",
     "text": [
      "2020-10-05 21:54:09,735 [22047] WARNING  root:225: [JupyterRequire] Equalities contributed 1/3432 to p-value\n"
     ]
    },
    {
     "name": "stdout",
     "output_type": "stream",
     "text": [
      "## Skin-Tone ##\n",
      "## Disability ##\n"
     ]
    },
    {
     "name": "stderr",
     "output_type": "stream",
     "text": [
      "2020-10-05 21:54:09,850 [22047] WARNING  root:225: [JupyterRequire] Equalities contributed 1/70 to p-value\n",
      "2020-10-05 21:54:09,976 [22047] WARNING  root:225: [JupyterRequire] Equalities contributed 1/924 to p-value\n"
     ]
    },
    {
     "name": "stdout",
     "output_type": "stream",
     "text": [
      "## President - Kennedy vs. Trump ##\n",
      "## President - B. Clinton vs. Trump ##\n"
     ]
    },
    {
     "name": "stderr",
     "output_type": "stream",
     "text": [
      "2020-10-05 21:54:10,102 [22047] WARNING  root:225: [JupyterRequire] Equalities contributed 1/924 to p-value\n",
      "2020-10-05 21:54:10,229 [22047] WARNING  root:225: [JupyterRequire] Equalities contributed 1/924 to p-value\n"
     ]
    },
    {
     "name": "stdout",
     "output_type": "stream",
     "text": [
      "## President - Bush vs. Trump ##\n",
      "## President - Lincoln vs. Trump ##\n"
     ]
    },
    {
     "name": "stderr",
     "output_type": "stream",
     "text": [
      "2020-10-05 21:54:10,358 [22047] WARNING  root:225: [JupyterRequire] Equalities contributed 1/924 to p-value\n",
      "2020-10-05 21:54:10,494 [22047] WARNING  root:225: [JupyterRequire] Equalities contributed 1/3432 to p-value\n"
     ]
    },
    {
     "name": "stdout",
     "output_type": "stream",
     "text": [
      "## Religion ##\n",
      "## Sexuality ##\n"
     ]
    },
    {
     "name": "stderr",
     "output_type": "stream",
     "text": [
      "2020-10-05 21:54:10,784 [22047] WARNING  root:225: [JupyterRequire] Equalities contributed 1/924 to p-value\n"
     ]
    },
    {
     "name": "stdout",
     "output_type": "stream",
     "text": [
      "## Race ##\n",
      "## Arab-Muslim ##\n"
     ]
    },
    {
     "name": "stderr",
     "output_type": "stream",
     "text": [
      "2020-10-05 21:54:11,086 [22047] WARNING  root:225: [JupyterRequire] Equalities contributed 1/924 to p-value\n"
     ]
    },
    {
     "name": "stdout",
     "output_type": "stream",
     "text": [
      "## Age ##\n",
      "## Gender-Science ##\n",
      "## Gender-Career ##\n",
      "## Intersectional-Gender-Science-MF ##\n",
      "## Intersectional-Gender-Science-WMBM ##\n",
      "## Intersectional-Gender-Science-WMBF ##\n",
      "## Intersectional-Gender-Science-WMWF ##\n",
      "## Intersectional-Gender-Career-MF ##\n",
      "## Intersectional-Gender-Career-WMBM ##\n",
      "## Intersectional-Gender-Career-WMBF ##\n",
      "## Intersectional-Gender-Career-WMWF ##\n",
      "## Intersectional-Valence-BW ##\n",
      "## Intersectional-Valence-WMBM ##\n",
      "## Intersectional-Valence-WMBF ##\n",
      "## Intersectional-Valence-WMWF ##\n",
      "## Intersectional-Valence-WFBM ##\n",
      "## Intersectional-Valence-BFBM ##\n",
      "## Intersectional-Valence-WFBF ##\n",
      "## Intersectional-Valence-FM ##\n",
      "# igpt #\n",
      "## Insect-Flower ##\n",
      "## Weapon ##\n"
     ]
    },
    {
     "name": "stderr",
     "output_type": "stream",
     "text": [
      "2020-10-05 21:54:15,351 [22047] WARNING  root:225: [JupyterRequire] Equalities contributed 1/924 to p-value\n"
     ]
    },
    {
     "name": "stdout",
     "output_type": "stream",
     "text": [
      "## Weapon (Modern) ##\n"
     ]
    },
    {
     "name": "stderr",
     "output_type": "stream",
     "text": [
      "2020-10-05 21:54:15,663 [22047] WARNING  root:225: [JupyterRequire] Equalities contributed 1/924 to p-value\n"
     ]
    },
    {
     "name": "stdout",
     "output_type": "stream",
     "text": [
      "## Native ##\n"
     ]
    },
    {
     "name": "stderr",
     "output_type": "stream",
     "text": [
      "2020-10-05 21:54:16,119 [22047] WARNING  root:225: [JupyterRequire] Equalities contributed 1/10000 to p-value\n"
     ]
    },
    {
     "name": "stdout",
     "output_type": "stream",
     "text": [
      "## Asian ##\n"
     ]
    },
    {
     "name": "stderr",
     "output_type": "stream",
     "text": [
      "2020-10-05 21:54:16,505 [22047] WARNING  root:225: [JupyterRequire] Equalities contributed 1/924 to p-value\n"
     ]
    },
    {
     "name": "stdout",
     "output_type": "stream",
     "text": [
      "## Weight ##\n",
      "## Skin-Tone ##\n"
     ]
    },
    {
     "name": "stderr",
     "output_type": "stream",
     "text": [
      "2020-10-05 21:54:17,396 [22047] WARNING  root:225: [JupyterRequire] Equalities contributed 1/3432 to p-value\n"
     ]
    },
    {
     "name": "stdout",
     "output_type": "stream",
     "text": [
      "## Disability ##\n"
     ]
    },
    {
     "name": "stderr",
     "output_type": "stream",
     "text": [
      "2020-10-05 21:54:17,781 [22047] WARNING  root:225: [JupyterRequire] Equalities contributed 1/70 to p-value\n"
     ]
    },
    {
     "name": "stdout",
     "output_type": "stream",
     "text": [
      "## President - Kennedy vs. Trump ##\n"
     ]
    },
    {
     "name": "stderr",
     "output_type": "stream",
     "text": [
      "2020-10-05 21:54:18,137 [22047] WARNING  root:225: [JupyterRequire] Equalities contributed 1/924 to p-value\n"
     ]
    },
    {
     "name": "stdout",
     "output_type": "stream",
     "text": [
      "## President - B. Clinton vs. Trump ##\n"
     ]
    },
    {
     "name": "stderr",
     "output_type": "stream",
     "text": [
      "2020-10-05 21:54:18,485 [22047] WARNING  root:225: [JupyterRequire] Equalities contributed 1/924 to p-value\n"
     ]
    },
    {
     "name": "stdout",
     "output_type": "stream",
     "text": [
      "## President - Bush vs. Trump ##\n"
     ]
    },
    {
     "name": "stderr",
     "output_type": "stream",
     "text": [
      "2020-10-05 21:54:18,835 [22047] WARNING  root:225: [JupyterRequire] Equalities contributed 1/924 to p-value\n"
     ]
    },
    {
     "name": "stdout",
     "output_type": "stream",
     "text": [
      "## President - Lincoln vs. Trump ##\n"
     ]
    },
    {
     "name": "stderr",
     "output_type": "stream",
     "text": [
      "2020-10-05 21:54:19,255 [22047] WARNING  root:225: [JupyterRequire] Equalities contributed 1/924 to p-value\n"
     ]
    },
    {
     "name": "stdout",
     "output_type": "stream",
     "text": [
      "## Religion ##\n"
     ]
    },
    {
     "name": "stderr",
     "output_type": "stream",
     "text": [
      "2020-10-05 21:54:19,726 [22047] WARNING  root:225: [JupyterRequire] Equalities contributed 1/3432 to p-value\n"
     ]
    },
    {
     "name": "stdout",
     "output_type": "stream",
     "text": [
      "## Sexuality ##\n",
      "## Race ##\n"
     ]
    },
    {
     "name": "stderr",
     "output_type": "stream",
     "text": [
      "2020-10-05 21:54:20,671 [22047] WARNING  root:225: [JupyterRequire] Equalities contributed 1/924 to p-value\n"
     ]
    },
    {
     "name": "stdout",
     "output_type": "stream",
     "text": [
      "## Arab-Muslim ##\n",
      "## Age ##\n"
     ]
    },
    {
     "name": "stderr",
     "output_type": "stream",
     "text": [
      "2020-10-05 21:54:21,429 [22047] WARNING  root:225: [JupyterRequire] Equalities contributed 1/924 to p-value\n"
     ]
    },
    {
     "name": "stdout",
     "output_type": "stream",
     "text": [
      "## Gender-Science ##\n",
      "## Gender-Career ##\n",
      "## Intersectional-Gender-Science-MF ##\n",
      "## Intersectional-Gender-Science-WMBM ##\n",
      "## Intersectional-Gender-Science-WMBF ##\n",
      "## Intersectional-Gender-Science-WMWF ##\n",
      "## Intersectional-Gender-Career-MF ##\n",
      "## Intersectional-Gender-Career-WMBM ##\n",
      "## Intersectional-Gender-Career-WMBF ##\n",
      "## Intersectional-Gender-Career-WMWF ##\n",
      "## Intersectional-Valence-BW ##\n",
      "## Intersectional-Valence-WMBM ##\n",
      "## Intersectional-Valence-WMBF ##\n",
      "## Intersectional-Valence-WMWF ##\n",
      "## Intersectional-Valence-WFBM ##\n",
      "## Intersectional-Valence-BFBM ##\n",
      "## Intersectional-Valence-WFBF ##\n",
      "## Intersectional-Valence-FM ##\n",
      "# simclr #\n",
      "## Insect-Flower ##\n",
      "## Weapon ##\n"
     ]
    },
    {
     "name": "stderr",
     "output_type": "stream",
     "text": [
      "2020-10-05 21:54:31,237 [22047] WARNING  root:225: [JupyterRequire] Equalities contributed 1/924 to p-value\n"
     ]
    },
    {
     "name": "stdout",
     "output_type": "stream",
     "text": [
      "## Weapon (Modern) ##\n"
     ]
    },
    {
     "name": "stderr",
     "output_type": "stream",
     "text": [
      "2020-10-05 21:54:32,449 [22047] WARNING  root:225: [JupyterRequire] Equalities contributed 1/924 to p-value\n"
     ]
    },
    {
     "name": "stdout",
     "output_type": "stream",
     "text": [
      "## Native ##\n",
      "## Asian ##\n"
     ]
    },
    {
     "name": "stderr",
     "output_type": "stream",
     "text": [
      "2020-10-05 21:54:34,827 [22047] WARNING  root:225: [JupyterRequire] Equalities contributed 1/924 to p-value\n"
     ]
    },
    {
     "name": "stdout",
     "output_type": "stream",
     "text": [
      "## Weight ##\n",
      "## Skin-Tone ##\n"
     ]
    },
    {
     "name": "stderr",
     "output_type": "stream",
     "text": [
      "2020-10-05 21:54:37,154 [22047] WARNING  root:225: [JupyterRequire] Equalities contributed 1/3432 to p-value\n"
     ]
    },
    {
     "name": "stdout",
     "output_type": "stream",
     "text": [
      "## Disability ##\n"
     ]
    },
    {
     "name": "stderr",
     "output_type": "stream",
     "text": [
      "2020-10-05 21:54:38,212 [22047] WARNING  root:225: [JupyterRequire] Equalities contributed 1/70 to p-value\n"
     ]
    },
    {
     "name": "stdout",
     "output_type": "stream",
     "text": [
      "## President - Kennedy vs. Trump ##\n"
     ]
    },
    {
     "name": "stderr",
     "output_type": "stream",
     "text": [
      "2020-10-05 21:54:39,264 [22047] WARNING  root:225: [JupyterRequire] Equalities contributed 1/924 to p-value\n"
     ]
    },
    {
     "name": "stdout",
     "output_type": "stream",
     "text": [
      "## President - B. Clinton vs. Trump ##\n"
     ]
    },
    {
     "name": "stderr",
     "output_type": "stream",
     "text": [
      "2020-10-05 21:54:40,328 [22047] WARNING  root:225: [JupyterRequire] Equalities contributed 1/924 to p-value\n"
     ]
    },
    {
     "name": "stdout",
     "output_type": "stream",
     "text": [
      "## President - Bush vs. Trump ##\n"
     ]
    },
    {
     "name": "stderr",
     "output_type": "stream",
     "text": [
      "2020-10-05 21:54:41,484 [22047] WARNING  root:225: [JupyterRequire] Equalities contributed 1/924 to p-value\n"
     ]
    },
    {
     "name": "stdout",
     "output_type": "stream",
     "text": [
      "## President - Lincoln vs. Trump ##\n"
     ]
    },
    {
     "name": "stderr",
     "output_type": "stream",
     "text": [
      "2020-10-05 21:54:42,543 [22047] WARNING  root:225: [JupyterRequire] Equalities contributed 1/924 to p-value\n"
     ]
    },
    {
     "name": "stdout",
     "output_type": "stream",
     "text": [
      "## Religion ##\n"
     ]
    },
    {
     "name": "stderr",
     "output_type": "stream",
     "text": [
      "2020-10-05 21:54:43,626 [22047] WARNING  root:225: [JupyterRequire] Equalities contributed 1/3432 to p-value\n"
     ]
    },
    {
     "name": "stdout",
     "output_type": "stream",
     "text": [
      "## Sexuality ##\n",
      "## Race ##\n"
     ]
    },
    {
     "name": "stderr",
     "output_type": "stream",
     "text": [
      "2020-10-05 21:54:45,828 [22047] WARNING  root:225: [JupyterRequire] Equalities contributed 1/924 to p-value\n"
     ]
    },
    {
     "name": "stdout",
     "output_type": "stream",
     "text": [
      "## Arab-Muslim ##\n"
     ]
    },
    {
     "name": "stderr",
     "output_type": "stream",
     "text": [
      "2020-10-05 21:54:47,039 [22047] WARNING  root:225: [JupyterRequire] Equalities contributed 1/10000 to p-value\n"
     ]
    },
    {
     "name": "stdout",
     "output_type": "stream",
     "text": [
      "## Age ##\n"
     ]
    },
    {
     "name": "stderr",
     "output_type": "stream",
     "text": [
      "2020-10-05 21:54:48,091 [22047] WARNING  root:225: [JupyterRequire] Equalities contributed 1/924 to p-value\n"
     ]
    },
    {
     "name": "stdout",
     "output_type": "stream",
     "text": [
      "## Gender-Science ##\n",
      "## Gender-Career ##\n",
      "## Intersectional-Gender-Science-MF ##\n",
      "## Intersectional-Gender-Science-WMBM ##\n",
      "## Intersectional-Gender-Science-WMBF ##\n",
      "## Intersectional-Gender-Science-WMWF ##\n",
      "## Intersectional-Gender-Career-MF ##\n",
      "## Intersectional-Gender-Career-WMBM ##\n",
      "## Intersectional-Gender-Career-WMBF ##\n",
      "## Intersectional-Gender-Career-WMWF ##\n",
      "## Intersectional-Valence-BW ##\n",
      "## Intersectional-Valence-WMBM ##\n",
      "## Intersectional-Valence-WMBF ##\n",
      "## Intersectional-Valence-WMWF ##\n",
      "## Intersectional-Valence-WFBM ##\n",
      "## Intersectional-Valence-BFBM ##\n",
      "## Intersectional-Valence-WFBF ##\n",
      "## Intersectional-Valence-FM ##\n"
     ]
    }
   ],
   "source": [
    "from ieat.api import test_all\n",
    "\n",
    "import pandas as pd\n",
    "import numpy as np\n",
    "\n",
    "results = test_all(\n",
    "    {\n",
    "        'igpt-logit': (model_size,models_dir,color_clusters_dir,n_px),\n",
    "        'igpt': (model_size,models_dir,color_clusters_dir,n_px),\n",
    "        'simclr': (depth, width, sk)\n",
    "    }\n",
    ")"
   ]
  },
  {
   "cell_type": "code",
   "execution_count": 33,
   "metadata": {},
   "outputs": [
    {
     "data": {
      "text/html": [
       "<div>\n",
       "<style scoped>\n",
       "    .dataframe tbody tr th:only-of-type {\n",
       "        vertical-align: middle;\n",
       "    }\n",
       "\n",
       "    .dataframe tbody tr th {\n",
       "        vertical-align: top;\n",
       "    }\n",
       "\n",
       "    .dataframe thead th {\n",
       "        text-align: right;\n",
       "    }\n",
       "</style>\n",
       "<table border=\"1\" class=\"dataframe\">\n",
       "  <thead>\n",
       "    <tr style=\"text-align: right;\">\n",
       "      <th></th>\n",
       "      <th></th>\n",
       "      <th>X</th>\n",
       "      <th>Y</th>\n",
       "      <th>A</th>\n",
       "      <th>B</th>\n",
       "      <th>d</th>\n",
       "      <th>p</th>\n",
       "      <th>n_t</th>\n",
       "      <th>n_a</th>\n",
       "      <th>sig</th>\n",
       "    </tr>\n",
       "    <tr>\n",
       "      <th>category</th>\n",
       "      <th>model</th>\n",
       "      <th></th>\n",
       "      <th></th>\n",
       "      <th></th>\n",
       "      <th></th>\n",
       "      <th></th>\n",
       "      <th></th>\n",
       "      <th></th>\n",
       "      <th></th>\n",
       "      <th></th>\n",
       "    </tr>\n",
       "  </thead>\n",
       "  <tbody>\n",
       "    <tr>\n",
       "      <th>Gender-Science</th>\n",
       "      <th>supervised_unblurred</th>\n",
       "      <td>male</td>\n",
       "      <td>female</td>\n",
       "      <td>science</td>\n",
       "      <td>liberal-arts</td>\n",
       "      <td>0.631834</td>\n",
       "      <td>0.0023</td>\n",
       "      <td>40</td>\n",
       "      <td>21</td>\n",
       "      <td>***</td>\n",
       "    </tr>\n",
       "    <tr>\n",
       "      <th>Gender-Career</th>\n",
       "      <th>supervised_unblurred</th>\n",
       "      <td>male</td>\n",
       "      <td>female</td>\n",
       "      <td>career</td>\n",
       "      <td>family</td>\n",
       "      <td>0.644562</td>\n",
       "      <td>0.0013</td>\n",
       "      <td>40</td>\n",
       "      <td>21</td>\n",
       "      <td>***</td>\n",
       "    </tr>\n",
       "    <tr>\n",
       "      <th>Intersectional-Gender-Science-MF</th>\n",
       "      <th>supervised_unblurred</th>\n",
       "      <td>male</td>\n",
       "      <td>female</td>\n",
       "      <td>science</td>\n",
       "      <td>liberal-arts</td>\n",
       "      <td>0.678306</td>\n",
       "      <td>0.0013</td>\n",
       "      <td>40</td>\n",
       "      <td>21</td>\n",
       "      <td>***</td>\n",
       "    </tr>\n",
       "    <tr>\n",
       "      <th>Intersectional-Gender-Science-WMBM</th>\n",
       "      <th>supervised_unblurred</th>\n",
       "      <td>white-male</td>\n",
       "      <td>black-male</td>\n",
       "      <td>science</td>\n",
       "      <td>liberal-arts</td>\n",
       "      <td>-0.109867</td>\n",
       "      <td>0.6349</td>\n",
       "      <td>20</td>\n",
       "      <td>21</td>\n",
       "      <td></td>\n",
       "    </tr>\n",
       "    <tr>\n",
       "      <th>Intersectional-Gender-Science-WMBF</th>\n",
       "      <th>supervised_unblurred</th>\n",
       "      <td>white-male</td>\n",
       "      <td>black-female</td>\n",
       "      <td>science</td>\n",
       "      <td>liberal-arts</td>\n",
       "      <td>0.758522</td>\n",
       "      <td>0.0086</td>\n",
       "      <td>20</td>\n",
       "      <td>21</td>\n",
       "      <td>***</td>\n",
       "    </tr>\n",
       "    <tr>\n",
       "      <th>Intersectional-Gender-Science-WMWF</th>\n",
       "      <th>supervised_unblurred</th>\n",
       "      <td>white-male</td>\n",
       "      <td>white-female</td>\n",
       "      <td>science</td>\n",
       "      <td>liberal-arts</td>\n",
       "      <td>0.597496</td>\n",
       "      <td>0.0276</td>\n",
       "      <td>20</td>\n",
       "      <td>21</td>\n",
       "      <td>**</td>\n",
       "    </tr>\n",
       "    <tr>\n",
       "      <th>Intersectional-Gender-Career-MF</th>\n",
       "      <th>supervised_unblurred</th>\n",
       "      <td>male</td>\n",
       "      <td>female</td>\n",
       "      <td>career</td>\n",
       "      <td>family</td>\n",
       "      <td>0.775304</td>\n",
       "      <td>0.0002</td>\n",
       "      <td>40</td>\n",
       "      <td>21</td>\n",
       "      <td>***</td>\n",
       "    </tr>\n",
       "    <tr>\n",
       "      <th>Intersectional-Gender-Career-WMBM</th>\n",
       "      <th>supervised_unblurred</th>\n",
       "      <td>black-male</td>\n",
       "      <td>white-male</td>\n",
       "      <td>career</td>\n",
       "      <td>family</td>\n",
       "      <td>0.408144</td>\n",
       "      <td>0.1000</td>\n",
       "      <td>20</td>\n",
       "      <td>21</td>\n",
       "      <td></td>\n",
       "    </tr>\n",
       "    <tr>\n",
       "      <th>Intersectional-Gender-Career-WMBF</th>\n",
       "      <th>supervised_unblurred</th>\n",
       "      <td>white-male</td>\n",
       "      <td>black-female</td>\n",
       "      <td>career</td>\n",
       "      <td>family</td>\n",
       "      <td>0.154722</td>\n",
       "      <td>0.3174</td>\n",
       "      <td>20</td>\n",
       "      <td>21</td>\n",
       "      <td></td>\n",
       "    </tr>\n",
       "    <tr>\n",
       "      <th>Intersectional-Gender-Career-WMWF</th>\n",
       "      <th>supervised_unblurred</th>\n",
       "      <td>white-male</td>\n",
       "      <td>white-female</td>\n",
       "      <td>career</td>\n",
       "      <td>family</td>\n",
       "      <td>1.061365</td>\n",
       "      <td>0.0002</td>\n",
       "      <td>20</td>\n",
       "      <td>21</td>\n",
       "      <td>***</td>\n",
       "    </tr>\n",
       "  </tbody>\n",
       "</table>\n",
       "</div>"
      ],
      "text/plain": [
       "                                                                  X  \\\n",
       "category                           model                              \n",
       "Gender-Science                     supervised_unblurred        male   \n",
       "Gender-Career                      supervised_unblurred        male   \n",
       "Intersectional-Gender-Science-MF   supervised_unblurred        male   \n",
       "Intersectional-Gender-Science-WMBM supervised_unblurred  white-male   \n",
       "Intersectional-Gender-Science-WMBF supervised_unblurred  white-male   \n",
       "Intersectional-Gender-Science-WMWF supervised_unblurred  white-male   \n",
       "Intersectional-Gender-Career-MF    supervised_unblurred        male   \n",
       "Intersectional-Gender-Career-WMBM  supervised_unblurred  black-male   \n",
       "Intersectional-Gender-Career-WMBF  supervised_unblurred  white-male   \n",
       "Intersectional-Gender-Career-WMWF  supervised_unblurred  white-male   \n",
       "\n",
       "                                                                    Y  \\\n",
       "category                           model                                \n",
       "Gender-Science                     supervised_unblurred        female   \n",
       "Gender-Career                      supervised_unblurred        female   \n",
       "Intersectional-Gender-Science-MF   supervised_unblurred        female   \n",
       "Intersectional-Gender-Science-WMBM supervised_unblurred    black-male   \n",
       "Intersectional-Gender-Science-WMBF supervised_unblurred  black-female   \n",
       "Intersectional-Gender-Science-WMWF supervised_unblurred  white-female   \n",
       "Intersectional-Gender-Career-MF    supervised_unblurred        female   \n",
       "Intersectional-Gender-Career-WMBM  supervised_unblurred    white-male   \n",
       "Intersectional-Gender-Career-WMBF  supervised_unblurred  black-female   \n",
       "Intersectional-Gender-Career-WMWF  supervised_unblurred  white-female   \n",
       "\n",
       "                                                               A  \\\n",
       "category                           model                           \n",
       "Gender-Science                     supervised_unblurred  science   \n",
       "Gender-Career                      supervised_unblurred   career   \n",
       "Intersectional-Gender-Science-MF   supervised_unblurred  science   \n",
       "Intersectional-Gender-Science-WMBM supervised_unblurred  science   \n",
       "Intersectional-Gender-Science-WMBF supervised_unblurred  science   \n",
       "Intersectional-Gender-Science-WMWF supervised_unblurred  science   \n",
       "Intersectional-Gender-Career-MF    supervised_unblurred   career   \n",
       "Intersectional-Gender-Career-WMBM  supervised_unblurred   career   \n",
       "Intersectional-Gender-Career-WMBF  supervised_unblurred   career   \n",
       "Intersectional-Gender-Career-WMWF  supervised_unblurred   career   \n",
       "\n",
       "                                                                    B  \\\n",
       "category                           model                                \n",
       "Gender-Science                     supervised_unblurred  liberal-arts   \n",
       "Gender-Career                      supervised_unblurred        family   \n",
       "Intersectional-Gender-Science-MF   supervised_unblurred  liberal-arts   \n",
       "Intersectional-Gender-Science-WMBM supervised_unblurred  liberal-arts   \n",
       "Intersectional-Gender-Science-WMBF supervised_unblurred  liberal-arts   \n",
       "Intersectional-Gender-Science-WMWF supervised_unblurred  liberal-arts   \n",
       "Intersectional-Gender-Career-MF    supervised_unblurred        family   \n",
       "Intersectional-Gender-Career-WMBM  supervised_unblurred        family   \n",
       "Intersectional-Gender-Career-WMBF  supervised_unblurred        family   \n",
       "Intersectional-Gender-Career-WMWF  supervised_unblurred        family   \n",
       "\n",
       "                                                                d       p  \\\n",
       "category                           model                                    \n",
       "Gender-Science                     supervised_unblurred  0.631834  0.0023   \n",
       "Gender-Career                      supervised_unblurred  0.644562  0.0013   \n",
       "Intersectional-Gender-Science-MF   supervised_unblurred  0.678306  0.0013   \n",
       "Intersectional-Gender-Science-WMBM supervised_unblurred -0.109867  0.6349   \n",
       "Intersectional-Gender-Science-WMBF supervised_unblurred  0.758522  0.0086   \n",
       "Intersectional-Gender-Science-WMWF supervised_unblurred  0.597496  0.0276   \n",
       "Intersectional-Gender-Career-MF    supervised_unblurred  0.775304  0.0002   \n",
       "Intersectional-Gender-Career-WMBM  supervised_unblurred  0.408144  0.1000   \n",
       "Intersectional-Gender-Career-WMBF  supervised_unblurred  0.154722  0.3174   \n",
       "Intersectional-Gender-Career-WMWF  supervised_unblurred  1.061365  0.0002   \n",
       "\n",
       "                                                         n_t  n_a  sig  \n",
       "category                           model                                \n",
       "Gender-Science                     supervised_unblurred   40   21  ***  \n",
       "Gender-Career                      supervised_unblurred   40   21  ***  \n",
       "Intersectional-Gender-Science-MF   supervised_unblurred   40   21  ***  \n",
       "Intersectional-Gender-Science-WMBM supervised_unblurred   20   21       \n",
       "Intersectional-Gender-Science-WMBF supervised_unblurred   20   21  ***  \n",
       "Intersectional-Gender-Science-WMWF supervised_unblurred   20   21   **  \n",
       "Intersectional-Gender-Career-MF    supervised_unblurred   40   21  ***  \n",
       "Intersectional-Gender-Career-WMBM  supervised_unblurred   20   21       \n",
       "Intersectional-Gender-Career-WMBF  supervised_unblurred   20   21       \n",
       "Intersectional-Gender-Career-WMWF  supervised_unblurred   20   21  ***  "
      ]
     },
     "execution_count": 33,
     "metadata": {},
     "output_type": "execute_result"
    }
   ],
   "source": [
    "intersectional = results_df.index.get_level_values(0).str.contains(\"Intersectional\")\n",
    "gender = results_df.index.get_level_values(0).str.contains(\"Gender\")\n",
    "results_df[gender]"
   ]
  },
  {
   "cell_type": "code",
   "execution_count": 32,
   "metadata": {
    "pycharm": {
     "is_executing": false,
     "name": "#%%\n"
    },
    "scrolled": true
   },
   "outputs": [
    {
     "data": {
      "text/html": [
       "<div>\n",
       "<style scoped>\n",
       "    .dataframe tbody tr th:only-of-type {\n",
       "        vertical-align: middle;\n",
       "    }\n",
       "\n",
       "    .dataframe tbody tr th {\n",
       "        vertical-align: top;\n",
       "    }\n",
       "\n",
       "    .dataframe thead th {\n",
       "        text-align: right;\n",
       "    }\n",
       "</style>\n",
       "<table border=\"1\" class=\"dataframe\">\n",
       "  <thead>\n",
       "    <tr style=\"text-align: right;\">\n",
       "      <th></th>\n",
       "      <th></th>\n",
       "      <th>X</th>\n",
       "      <th>Y</th>\n",
       "      <th>A</th>\n",
       "      <th>B</th>\n",
       "      <th>d</th>\n",
       "      <th>p</th>\n",
       "      <th>n_t</th>\n",
       "      <th>n_a</th>\n",
       "      <th>sig</th>\n",
       "    </tr>\n",
       "    <tr>\n",
       "      <th>category</th>\n",
       "      <th>model</th>\n",
       "      <th></th>\n",
       "      <th></th>\n",
       "      <th></th>\n",
       "      <th></th>\n",
       "      <th></th>\n",
       "      <th></th>\n",
       "      <th></th>\n",
       "      <th></th>\n",
       "      <th></th>\n",
       "    </tr>\n",
       "  </thead>\n",
       "  <tbody>\n",
       "    <tr>\n",
       "      <th>Insect-Flower</th>\n",
       "      <th>supervised_unblurred</th>\n",
       "      <td>flower</td>\n",
       "      <td>insect</td>\n",
       "      <td>pleasant</td>\n",
       "      <td>unpleasant</td>\n",
       "      <td>1.542373</td>\n",
       "      <td>0.000100</td>\n",
       "      <td>35</td>\n",
       "      <td>55</td>\n",
       "      <td>***</td>\n",
       "    </tr>\n",
       "    <tr>\n",
       "      <th>Weapon</th>\n",
       "      <th>supervised_unblurred</th>\n",
       "      <td>white</td>\n",
       "      <td>black</td>\n",
       "      <td>tool</td>\n",
       "      <td>weapon</td>\n",
       "      <td>-0.508183</td>\n",
       "      <td>0.773810</td>\n",
       "      <td>6</td>\n",
       "      <td>7</td>\n",
       "      <td></td>\n",
       "    </tr>\n",
       "    <tr>\n",
       "      <th>Weapon (Modern)</th>\n",
       "      <th>supervised_unblurred</th>\n",
       "      <td>white</td>\n",
       "      <td>black</td>\n",
       "      <td>tool-modern</td>\n",
       "      <td>weapon-modern</td>\n",
       "      <td>-0.472413</td>\n",
       "      <td>0.750000</td>\n",
       "      <td>6</td>\n",
       "      <td>9</td>\n",
       "      <td></td>\n",
       "    </tr>\n",
       "    <tr>\n",
       "      <th>Native</th>\n",
       "      <th>supervised_unblurred</th>\n",
       "      <td>euro</td>\n",
       "      <td>native</td>\n",
       "      <td>us</td>\n",
       "      <td>world</td>\n",
       "      <td>-0.621560</td>\n",
       "      <td>0.886900</td>\n",
       "      <td>8</td>\n",
       "      <td>5</td>\n",
       "      <td></td>\n",
       "    </tr>\n",
       "    <tr>\n",
       "      <th>Asian</th>\n",
       "      <th>supervised_unblurred</th>\n",
       "      <td>european-american</td>\n",
       "      <td>asian-american</td>\n",
       "      <td>american</td>\n",
       "      <td>foreign</td>\n",
       "      <td>-0.512659</td>\n",
       "      <td>0.806277</td>\n",
       "      <td>6</td>\n",
       "      <td>6</td>\n",
       "      <td></td>\n",
       "    </tr>\n",
       "    <tr>\n",
       "      <th>Weight</th>\n",
       "      <th>supervised_unblurred</th>\n",
       "      <td>thin</td>\n",
       "      <td>fat</td>\n",
       "      <td>pleasant</td>\n",
       "      <td>unpleasant</td>\n",
       "      <td>1.392174</td>\n",
       "      <td>0.000300</td>\n",
       "      <td>10</td>\n",
       "      <td>55</td>\n",
       "      <td>***</td>\n",
       "    </tr>\n",
       "    <tr>\n",
       "      <th>Skin-Tone</th>\n",
       "      <th>supervised_unblurred</th>\n",
       "      <td>light</td>\n",
       "      <td>dark</td>\n",
       "      <td>pleasant</td>\n",
       "      <td>unpleasant</td>\n",
       "      <td>-0.115889</td>\n",
       "      <td>0.583916</td>\n",
       "      <td>7</td>\n",
       "      <td>55</td>\n",
       "      <td></td>\n",
       "    </tr>\n",
       "    <tr>\n",
       "      <th>Disability</th>\n",
       "      <th>supervised_unblurred</th>\n",
       "      <td>disabled</td>\n",
       "      <td>abled</td>\n",
       "      <td>pleasant</td>\n",
       "      <td>unpleasant</td>\n",
       "      <td>-0.813611</td>\n",
       "      <td>0.928571</td>\n",
       "      <td>4</td>\n",
       "      <td>55</td>\n",
       "      <td></td>\n",
       "    </tr>\n",
       "    <tr>\n",
       "      <th>Religion</th>\n",
       "      <th>supervised_unblurred</th>\n",
       "      <td>christianity</td>\n",
       "      <td>judaism</td>\n",
       "      <td>pleasant</td>\n",
       "      <td>unpleasant</td>\n",
       "      <td>0.243864</td>\n",
       "      <td>0.336538</td>\n",
       "      <td>7</td>\n",
       "      <td>55</td>\n",
       "      <td></td>\n",
       "    </tr>\n",
       "    <tr>\n",
       "      <th>Sexuality</th>\n",
       "      <th>supervised_unblurred</th>\n",
       "      <td>gay</td>\n",
       "      <td>straight</td>\n",
       "      <td>pleasant</td>\n",
       "      <td>unpleasant</td>\n",
       "      <td>0.463220</td>\n",
       "      <td>0.180800</td>\n",
       "      <td>9</td>\n",
       "      <td>55</td>\n",
       "      <td></td>\n",
       "    </tr>\n",
       "    <tr>\n",
       "      <th>Race</th>\n",
       "      <th>supervised_unblurred</th>\n",
       "      <td>european-american</td>\n",
       "      <td>african-american</td>\n",
       "      <td>pleasant</td>\n",
       "      <td>unpleasant</td>\n",
       "      <td>-0.832234</td>\n",
       "      <td>0.920996</td>\n",
       "      <td>6</td>\n",
       "      <td>55</td>\n",
       "      <td></td>\n",
       "    </tr>\n",
       "    <tr>\n",
       "      <th>Arab-Muslim</th>\n",
       "      <th>supervised_unblurred</th>\n",
       "      <td>other-people</td>\n",
       "      <td>arab-muslim</td>\n",
       "      <td>pleasant</td>\n",
       "      <td>unpleasant</td>\n",
       "      <td>0.974703</td>\n",
       "      <td>0.012600</td>\n",
       "      <td>10</td>\n",
       "      <td>55</td>\n",
       "      <td>**</td>\n",
       "    </tr>\n",
       "    <tr>\n",
       "      <th>Age</th>\n",
       "      <th>supervised_unblurred</th>\n",
       "      <td>young</td>\n",
       "      <td>old</td>\n",
       "      <td>pleasant</td>\n",
       "      <td>unpleasant</td>\n",
       "      <td>0.136936</td>\n",
       "      <td>0.408009</td>\n",
       "      <td>6</td>\n",
       "      <td>55</td>\n",
       "      <td></td>\n",
       "    </tr>\n",
       "    <tr>\n",
       "      <th>Gender-Science</th>\n",
       "      <th>supervised_unblurred</th>\n",
       "      <td>male</td>\n",
       "      <td>female</td>\n",
       "      <td>science</td>\n",
       "      <td>liberal-arts</td>\n",
       "      <td>0.631834</td>\n",
       "      <td>0.002300</td>\n",
       "      <td>40</td>\n",
       "      <td>21</td>\n",
       "      <td>***</td>\n",
       "    </tr>\n",
       "    <tr>\n",
       "      <th>Gender-Career</th>\n",
       "      <th>supervised_unblurred</th>\n",
       "      <td>male</td>\n",
       "      <td>female</td>\n",
       "      <td>career</td>\n",
       "      <td>family</td>\n",
       "      <td>0.644562</td>\n",
       "      <td>0.001300</td>\n",
       "      <td>40</td>\n",
       "      <td>21</td>\n",
       "      <td>***</td>\n",
       "    </tr>\n",
       "    <tr>\n",
       "      <th>Intersectional-Gender-Science-MF</th>\n",
       "      <th>supervised_unblurred</th>\n",
       "      <td>male</td>\n",
       "      <td>female</td>\n",
       "      <td>science</td>\n",
       "      <td>liberal-arts</td>\n",
       "      <td>0.678306</td>\n",
       "      <td>0.001300</td>\n",
       "      <td>40</td>\n",
       "      <td>21</td>\n",
       "      <td>***</td>\n",
       "    </tr>\n",
       "    <tr>\n",
       "      <th>Intersectional-Gender-Science-WMBM</th>\n",
       "      <th>supervised_unblurred</th>\n",
       "      <td>white-male</td>\n",
       "      <td>black-male</td>\n",
       "      <td>science</td>\n",
       "      <td>liberal-arts</td>\n",
       "      <td>-0.109867</td>\n",
       "      <td>0.634900</td>\n",
       "      <td>20</td>\n",
       "      <td>21</td>\n",
       "      <td></td>\n",
       "    </tr>\n",
       "    <tr>\n",
       "      <th>Intersectional-Gender-Science-WMBF</th>\n",
       "      <th>supervised_unblurred</th>\n",
       "      <td>white-male</td>\n",
       "      <td>black-female</td>\n",
       "      <td>science</td>\n",
       "      <td>liberal-arts</td>\n",
       "      <td>0.758522</td>\n",
       "      <td>0.008600</td>\n",
       "      <td>20</td>\n",
       "      <td>21</td>\n",
       "      <td>***</td>\n",
       "    </tr>\n",
       "    <tr>\n",
       "      <th>Intersectional-Gender-Science-WMWF</th>\n",
       "      <th>supervised_unblurred</th>\n",
       "      <td>white-male</td>\n",
       "      <td>white-female</td>\n",
       "      <td>science</td>\n",
       "      <td>liberal-arts</td>\n",
       "      <td>0.597496</td>\n",
       "      <td>0.027600</td>\n",
       "      <td>20</td>\n",
       "      <td>21</td>\n",
       "      <td>**</td>\n",
       "    </tr>\n",
       "    <tr>\n",
       "      <th>Intersectional-Gender-Career-MF</th>\n",
       "      <th>supervised_unblurred</th>\n",
       "      <td>male</td>\n",
       "      <td>female</td>\n",
       "      <td>career</td>\n",
       "      <td>family</td>\n",
       "      <td>0.775304</td>\n",
       "      <td>0.000200</td>\n",
       "      <td>40</td>\n",
       "      <td>21</td>\n",
       "      <td>***</td>\n",
       "    </tr>\n",
       "    <tr>\n",
       "      <th>Intersectional-Gender-Career-WMBM</th>\n",
       "      <th>supervised_unblurred</th>\n",
       "      <td>black-male</td>\n",
       "      <td>white-male</td>\n",
       "      <td>career</td>\n",
       "      <td>family</td>\n",
       "      <td>0.408144</td>\n",
       "      <td>0.100000</td>\n",
       "      <td>20</td>\n",
       "      <td>21</td>\n",
       "      <td></td>\n",
       "    </tr>\n",
       "    <tr>\n",
       "      <th>Intersectional-Gender-Career-WMBF</th>\n",
       "      <th>supervised_unblurred</th>\n",
       "      <td>white-male</td>\n",
       "      <td>black-female</td>\n",
       "      <td>career</td>\n",
       "      <td>family</td>\n",
       "      <td>0.154722</td>\n",
       "      <td>0.317400</td>\n",
       "      <td>20</td>\n",
       "      <td>21</td>\n",
       "      <td></td>\n",
       "    </tr>\n",
       "    <tr>\n",
       "      <th>Intersectional-Gender-Career-WMWF</th>\n",
       "      <th>supervised_unblurred</th>\n",
       "      <td>white-male</td>\n",
       "      <td>white-female</td>\n",
       "      <td>career</td>\n",
       "      <td>family</td>\n",
       "      <td>1.061365</td>\n",
       "      <td>0.000200</td>\n",
       "      <td>20</td>\n",
       "      <td>21</td>\n",
       "      <td>***</td>\n",
       "    </tr>\n",
       "    <tr>\n",
       "      <th>Intersectional-Valence-BW</th>\n",
       "      <th>supervised_unblurred</th>\n",
       "      <td>white</td>\n",
       "      <td>black</td>\n",
       "      <td>pleasant</td>\n",
       "      <td>unpleasant</td>\n",
       "      <td>0.379953</td>\n",
       "      <td>0.045900</td>\n",
       "      <td>40</td>\n",
       "      <td>55</td>\n",
       "      <td>**</td>\n",
       "    </tr>\n",
       "    <tr>\n",
       "      <th>Intersectional-Valence-WMBM</th>\n",
       "      <th>supervised_unblurred</th>\n",
       "      <td>white-male</td>\n",
       "      <td>black-male</td>\n",
       "      <td>pleasant</td>\n",
       "      <td>unpleasant</td>\n",
       "      <td>0.470916</td>\n",
       "      <td>0.066900</td>\n",
       "      <td>20</td>\n",
       "      <td>55</td>\n",
       "      <td>*</td>\n",
       "    </tr>\n",
       "    <tr>\n",
       "      <th>Intersectional-Valence-WMBF</th>\n",
       "      <th>supervised_unblurred</th>\n",
       "      <td>white-male</td>\n",
       "      <td>black-female</td>\n",
       "      <td>pleasant</td>\n",
       "      <td>unpleasant</td>\n",
       "      <td>-0.269195</td>\n",
       "      <td>0.796900</td>\n",
       "      <td>20</td>\n",
       "      <td>55</td>\n",
       "      <td></td>\n",
       "    </tr>\n",
       "    <tr>\n",
       "      <th>Intersectional-Valence-WMWF</th>\n",
       "      <th>supervised_unblurred</th>\n",
       "      <td>white-female</td>\n",
       "      <td>white-male</td>\n",
       "      <td>pleasant</td>\n",
       "      <td>unpleasant</td>\n",
       "      <td>0.561883</td>\n",
       "      <td>0.037400</td>\n",
       "      <td>20</td>\n",
       "      <td>55</td>\n",
       "      <td>**</td>\n",
       "    </tr>\n",
       "    <tr>\n",
       "      <th>Intersectional-Valence-WFBM</th>\n",
       "      <th>supervised_unblurred</th>\n",
       "      <td>white-female</td>\n",
       "      <td>black-male</td>\n",
       "      <td>pleasant</td>\n",
       "      <td>unpleasant</td>\n",
       "      <td>0.928562</td>\n",
       "      <td>0.000800</td>\n",
       "      <td>20</td>\n",
       "      <td>55</td>\n",
       "      <td>***</td>\n",
       "    </tr>\n",
       "    <tr>\n",
       "      <th>Intersectional-Valence-BFBM</th>\n",
       "      <th>supervised_unblurred</th>\n",
       "      <td>black-female</td>\n",
       "      <td>black-male</td>\n",
       "      <td>pleasant</td>\n",
       "      <td>unpleasant</td>\n",
       "      <td>0.711994</td>\n",
       "      <td>0.011000</td>\n",
       "      <td>20</td>\n",
       "      <td>55</td>\n",
       "      <td>**</td>\n",
       "    </tr>\n",
       "    <tr>\n",
       "      <th>Intersectional-Valence-WFBF</th>\n",
       "      <th>supervised_unblurred</th>\n",
       "      <td>white-female</td>\n",
       "      <td>black-female</td>\n",
       "      <td>pleasant</td>\n",
       "      <td>unpleasant</td>\n",
       "      <td>0.327540</td>\n",
       "      <td>0.149300</td>\n",
       "      <td>20</td>\n",
       "      <td>55</td>\n",
       "      <td></td>\n",
       "    </tr>\n",
       "    <tr>\n",
       "      <th>Intersectional-Valence-FM</th>\n",
       "      <th>supervised_unblurred</th>\n",
       "      <td>female</td>\n",
       "      <td>male</td>\n",
       "      <td>pleasant</td>\n",
       "      <td>unpleasant</td>\n",
       "      <td>0.627600</td>\n",
       "      <td>0.001400</td>\n",
       "      <td>40</td>\n",
       "      <td>55</td>\n",
       "      <td>***</td>\n",
       "    </tr>\n",
       "  </tbody>\n",
       "</table>\n",
       "</div>"
      ],
      "text/plain": [
       "                                                                         X  \\\n",
       "category                           model                                     \n",
       "Insect-Flower                      supervised_unblurred             flower   \n",
       "Weapon                             supervised_unblurred              white   \n",
       "Weapon (Modern)                    supervised_unblurred              white   \n",
       "Native                             supervised_unblurred               euro   \n",
       "Asian                              supervised_unblurred  european-american   \n",
       "Weight                             supervised_unblurred               thin   \n",
       "Skin-Tone                          supervised_unblurred              light   \n",
       "Disability                         supervised_unblurred           disabled   \n",
       "Religion                           supervised_unblurred       christianity   \n",
       "Sexuality                          supervised_unblurred                gay   \n",
       "Race                               supervised_unblurred  european-american   \n",
       "Arab-Muslim                        supervised_unblurred       other-people   \n",
       "Age                                supervised_unblurred              young   \n",
       "Gender-Science                     supervised_unblurred               male   \n",
       "Gender-Career                      supervised_unblurred               male   \n",
       "Intersectional-Gender-Science-MF   supervised_unblurred               male   \n",
       "Intersectional-Gender-Science-WMBM supervised_unblurred         white-male   \n",
       "Intersectional-Gender-Science-WMBF supervised_unblurred         white-male   \n",
       "Intersectional-Gender-Science-WMWF supervised_unblurred         white-male   \n",
       "Intersectional-Gender-Career-MF    supervised_unblurred               male   \n",
       "Intersectional-Gender-Career-WMBM  supervised_unblurred         black-male   \n",
       "Intersectional-Gender-Career-WMBF  supervised_unblurred         white-male   \n",
       "Intersectional-Gender-Career-WMWF  supervised_unblurred         white-male   \n",
       "Intersectional-Valence-BW          supervised_unblurred              white   \n",
       "Intersectional-Valence-WMBM        supervised_unblurred         white-male   \n",
       "Intersectional-Valence-WMBF        supervised_unblurred         white-male   \n",
       "Intersectional-Valence-WMWF        supervised_unblurred       white-female   \n",
       "Intersectional-Valence-WFBM        supervised_unblurred       white-female   \n",
       "Intersectional-Valence-BFBM        supervised_unblurred       black-female   \n",
       "Intersectional-Valence-WFBF        supervised_unblurred       white-female   \n",
       "Intersectional-Valence-FM          supervised_unblurred             female   \n",
       "\n",
       "                                                                        Y  \\\n",
       "category                           model                                    \n",
       "Insect-Flower                      supervised_unblurred            insect   \n",
       "Weapon                             supervised_unblurred             black   \n",
       "Weapon (Modern)                    supervised_unblurred             black   \n",
       "Native                             supervised_unblurred            native   \n",
       "Asian                              supervised_unblurred    asian-american   \n",
       "Weight                             supervised_unblurred               fat   \n",
       "Skin-Tone                          supervised_unblurred              dark   \n",
       "Disability                         supervised_unblurred             abled   \n",
       "Religion                           supervised_unblurred           judaism   \n",
       "Sexuality                          supervised_unblurred          straight   \n",
       "Race                               supervised_unblurred  african-american   \n",
       "Arab-Muslim                        supervised_unblurred       arab-muslim   \n",
       "Age                                supervised_unblurred               old   \n",
       "Gender-Science                     supervised_unblurred            female   \n",
       "Gender-Career                      supervised_unblurred            female   \n",
       "Intersectional-Gender-Science-MF   supervised_unblurred            female   \n",
       "Intersectional-Gender-Science-WMBM supervised_unblurred        black-male   \n",
       "Intersectional-Gender-Science-WMBF supervised_unblurred      black-female   \n",
       "Intersectional-Gender-Science-WMWF supervised_unblurred      white-female   \n",
       "Intersectional-Gender-Career-MF    supervised_unblurred            female   \n",
       "Intersectional-Gender-Career-WMBM  supervised_unblurred        white-male   \n",
       "Intersectional-Gender-Career-WMBF  supervised_unblurred      black-female   \n",
       "Intersectional-Gender-Career-WMWF  supervised_unblurred      white-female   \n",
       "Intersectional-Valence-BW          supervised_unblurred             black   \n",
       "Intersectional-Valence-WMBM        supervised_unblurred        black-male   \n",
       "Intersectional-Valence-WMBF        supervised_unblurred      black-female   \n",
       "Intersectional-Valence-WMWF        supervised_unblurred        white-male   \n",
       "Intersectional-Valence-WFBM        supervised_unblurred        black-male   \n",
       "Intersectional-Valence-BFBM        supervised_unblurred        black-male   \n",
       "Intersectional-Valence-WFBF        supervised_unblurred      black-female   \n",
       "Intersectional-Valence-FM          supervised_unblurred              male   \n",
       "\n",
       "                                                                   A  \\\n",
       "category                           model                               \n",
       "Insect-Flower                      supervised_unblurred     pleasant   \n",
       "Weapon                             supervised_unblurred         tool   \n",
       "Weapon (Modern)                    supervised_unblurred  tool-modern   \n",
       "Native                             supervised_unblurred           us   \n",
       "Asian                              supervised_unblurred     american   \n",
       "Weight                             supervised_unblurred     pleasant   \n",
       "Skin-Tone                          supervised_unblurred     pleasant   \n",
       "Disability                         supervised_unblurred     pleasant   \n",
       "Religion                           supervised_unblurred     pleasant   \n",
       "Sexuality                          supervised_unblurred     pleasant   \n",
       "Race                               supervised_unblurred     pleasant   \n",
       "Arab-Muslim                        supervised_unblurred     pleasant   \n",
       "Age                                supervised_unblurred     pleasant   \n",
       "Gender-Science                     supervised_unblurred      science   \n",
       "Gender-Career                      supervised_unblurred       career   \n",
       "Intersectional-Gender-Science-MF   supervised_unblurred      science   \n",
       "Intersectional-Gender-Science-WMBM supervised_unblurred      science   \n",
       "Intersectional-Gender-Science-WMBF supervised_unblurred      science   \n",
       "Intersectional-Gender-Science-WMWF supervised_unblurred      science   \n",
       "Intersectional-Gender-Career-MF    supervised_unblurred       career   \n",
       "Intersectional-Gender-Career-WMBM  supervised_unblurred       career   \n",
       "Intersectional-Gender-Career-WMBF  supervised_unblurred       career   \n",
       "Intersectional-Gender-Career-WMWF  supervised_unblurred       career   \n",
       "Intersectional-Valence-BW          supervised_unblurred     pleasant   \n",
       "Intersectional-Valence-WMBM        supervised_unblurred     pleasant   \n",
       "Intersectional-Valence-WMBF        supervised_unblurred     pleasant   \n",
       "Intersectional-Valence-WMWF        supervised_unblurred     pleasant   \n",
       "Intersectional-Valence-WFBM        supervised_unblurred     pleasant   \n",
       "Intersectional-Valence-BFBM        supervised_unblurred     pleasant   \n",
       "Intersectional-Valence-WFBF        supervised_unblurred     pleasant   \n",
       "Intersectional-Valence-FM          supervised_unblurred     pleasant   \n",
       "\n",
       "                                                                     B  \\\n",
       "category                           model                                 \n",
       "Insect-Flower                      supervised_unblurred     unpleasant   \n",
       "Weapon                             supervised_unblurred         weapon   \n",
       "Weapon (Modern)                    supervised_unblurred  weapon-modern   \n",
       "Native                             supervised_unblurred          world   \n",
       "Asian                              supervised_unblurred        foreign   \n",
       "Weight                             supervised_unblurred     unpleasant   \n",
       "Skin-Tone                          supervised_unblurred     unpleasant   \n",
       "Disability                         supervised_unblurred     unpleasant   \n",
       "Religion                           supervised_unblurred     unpleasant   \n",
       "Sexuality                          supervised_unblurred     unpleasant   \n",
       "Race                               supervised_unblurred     unpleasant   \n",
       "Arab-Muslim                        supervised_unblurred     unpleasant   \n",
       "Age                                supervised_unblurred     unpleasant   \n",
       "Gender-Science                     supervised_unblurred   liberal-arts   \n",
       "Gender-Career                      supervised_unblurred         family   \n",
       "Intersectional-Gender-Science-MF   supervised_unblurred   liberal-arts   \n",
       "Intersectional-Gender-Science-WMBM supervised_unblurred   liberal-arts   \n",
       "Intersectional-Gender-Science-WMBF supervised_unblurred   liberal-arts   \n",
       "Intersectional-Gender-Science-WMWF supervised_unblurred   liberal-arts   \n",
       "Intersectional-Gender-Career-MF    supervised_unblurred         family   \n",
       "Intersectional-Gender-Career-WMBM  supervised_unblurred         family   \n",
       "Intersectional-Gender-Career-WMBF  supervised_unblurred         family   \n",
       "Intersectional-Gender-Career-WMWF  supervised_unblurred         family   \n",
       "Intersectional-Valence-BW          supervised_unblurred     unpleasant   \n",
       "Intersectional-Valence-WMBM        supervised_unblurred     unpleasant   \n",
       "Intersectional-Valence-WMBF        supervised_unblurred     unpleasant   \n",
       "Intersectional-Valence-WMWF        supervised_unblurred     unpleasant   \n",
       "Intersectional-Valence-WFBM        supervised_unblurred     unpleasant   \n",
       "Intersectional-Valence-BFBM        supervised_unblurred     unpleasant   \n",
       "Intersectional-Valence-WFBF        supervised_unblurred     unpleasant   \n",
       "Intersectional-Valence-FM          supervised_unblurred     unpleasant   \n",
       "\n",
       "                                                                d         p  \\\n",
       "category                           model                                      \n",
       "Insect-Flower                      supervised_unblurred  1.542373  0.000100   \n",
       "Weapon                             supervised_unblurred -0.508183  0.773810   \n",
       "Weapon (Modern)                    supervised_unblurred -0.472413  0.750000   \n",
       "Native                             supervised_unblurred -0.621560  0.886900   \n",
       "Asian                              supervised_unblurred -0.512659  0.806277   \n",
       "Weight                             supervised_unblurred  1.392174  0.000300   \n",
       "Skin-Tone                          supervised_unblurred -0.115889  0.583916   \n",
       "Disability                         supervised_unblurred -0.813611  0.928571   \n",
       "Religion                           supervised_unblurred  0.243864  0.336538   \n",
       "Sexuality                          supervised_unblurred  0.463220  0.180800   \n",
       "Race                               supervised_unblurred -0.832234  0.920996   \n",
       "Arab-Muslim                        supervised_unblurred  0.974703  0.012600   \n",
       "Age                                supervised_unblurred  0.136936  0.408009   \n",
       "Gender-Science                     supervised_unblurred  0.631834  0.002300   \n",
       "Gender-Career                      supervised_unblurred  0.644562  0.001300   \n",
       "Intersectional-Gender-Science-MF   supervised_unblurred  0.678306  0.001300   \n",
       "Intersectional-Gender-Science-WMBM supervised_unblurred -0.109867  0.634900   \n",
       "Intersectional-Gender-Science-WMBF supervised_unblurred  0.758522  0.008600   \n",
       "Intersectional-Gender-Science-WMWF supervised_unblurred  0.597496  0.027600   \n",
       "Intersectional-Gender-Career-MF    supervised_unblurred  0.775304  0.000200   \n",
       "Intersectional-Gender-Career-WMBM  supervised_unblurred  0.408144  0.100000   \n",
       "Intersectional-Gender-Career-WMBF  supervised_unblurred  0.154722  0.317400   \n",
       "Intersectional-Gender-Career-WMWF  supervised_unblurred  1.061365  0.000200   \n",
       "Intersectional-Valence-BW          supervised_unblurred  0.379953  0.045900   \n",
       "Intersectional-Valence-WMBM        supervised_unblurred  0.470916  0.066900   \n",
       "Intersectional-Valence-WMBF        supervised_unblurred -0.269195  0.796900   \n",
       "Intersectional-Valence-WMWF        supervised_unblurred  0.561883  0.037400   \n",
       "Intersectional-Valence-WFBM        supervised_unblurred  0.928562  0.000800   \n",
       "Intersectional-Valence-BFBM        supervised_unblurred  0.711994  0.011000   \n",
       "Intersectional-Valence-WFBF        supervised_unblurred  0.327540  0.149300   \n",
       "Intersectional-Valence-FM          supervised_unblurred  0.627600  0.001400   \n",
       "\n",
       "                                                         n_t  n_a  sig  \n",
       "category                           model                                \n",
       "Insect-Flower                      supervised_unblurred   35   55  ***  \n",
       "Weapon                             supervised_unblurred    6    7       \n",
       "Weapon (Modern)                    supervised_unblurred    6    9       \n",
       "Native                             supervised_unblurred    8    5       \n",
       "Asian                              supervised_unblurred    6    6       \n",
       "Weight                             supervised_unblurred   10   55  ***  \n",
       "Skin-Tone                          supervised_unblurred    7   55       \n",
       "Disability                         supervised_unblurred    4   55       \n",
       "Religion                           supervised_unblurred    7   55       \n",
       "Sexuality                          supervised_unblurred    9   55       \n",
       "Race                               supervised_unblurred    6   55       \n",
       "Arab-Muslim                        supervised_unblurred   10   55   **  \n",
       "Age                                supervised_unblurred    6   55       \n",
       "Gender-Science                     supervised_unblurred   40   21  ***  \n",
       "Gender-Career                      supervised_unblurred   40   21  ***  \n",
       "Intersectional-Gender-Science-MF   supervised_unblurred   40   21  ***  \n",
       "Intersectional-Gender-Science-WMBM supervised_unblurred   20   21       \n",
       "Intersectional-Gender-Science-WMBF supervised_unblurred   20   21  ***  \n",
       "Intersectional-Gender-Science-WMWF supervised_unblurred   20   21   **  \n",
       "Intersectional-Gender-Career-MF    supervised_unblurred   40   21  ***  \n",
       "Intersectional-Gender-Career-WMBM  supervised_unblurred   20   21       \n",
       "Intersectional-Gender-Career-WMBF  supervised_unblurred   20   21       \n",
       "Intersectional-Gender-Career-WMWF  supervised_unblurred   20   21  ***  \n",
       "Intersectional-Valence-BW          supervised_unblurred   40   55   **  \n",
       "Intersectional-Valence-WMBM        supervised_unblurred   20   55    *  \n",
       "Intersectional-Valence-WMBF        supervised_unblurred   20   55       \n",
       "Intersectional-Valence-WMWF        supervised_unblurred   20   55   **  \n",
       "Intersectional-Valence-WFBM        supervised_unblurred   20   55  ***  \n",
       "Intersectional-Valence-BFBM        supervised_unblurred   20   55   **  \n",
       "Intersectional-Valence-WFBF        supervised_unblurred   20   55       \n",
       "Intersectional-Valence-FM          supervised_unblurred   40   55  ***  "
      ]
     },
     "execution_count": 32,
     "metadata": {},
     "output_type": "execute_result"
    }
   ],
   "source": [
    "results_df = pd.read_csv('/Users/Tony/OneDrive - Nexus365/Societies/OxAI/Repos/ieat/result/result.csv')\n",
    "results_df.set_index(['category', 'model'], inplace=True)\n",
    "results_df.fillna('', inplace=True)\n",
    "results_df"
   ]
  },
  {
   "cell_type": "markdown",
   "metadata": {
    "id": "SbZZ-m6QpiTM",
    "pycharm": {
     "name": "#%% md\n"
    }
   },
   "source": [
    "# Generate latex table output\n",
    "experiments = (\n",
    "    \"Insect-Flower\",\n",
    "    \"Gender-Science\",\n",
    "    \"Gender-Career\",\n",
    "    \"Skin-Tone\",\n",
    "    \"Race\",\n",
    "    \"Weapon\",\n",
    "    \"Weapon (Modern)\",\n",
    "    \"Native\",\n",
    "    \"Asian\",\n",
    "    \"Weight\",\n",
    "    \"Religion\",\n",
    "    \"Sexuality\",\n",
    "    \"Disability\",\n",
    "    \"Arab-Muslim\",\n",
    "    \"Age\"\n",
    ")\n",
    "latex_df = results_df\n",
    "latex_df.index = latex_df.index.set_names([\"Test\", \"Model\"])\n",
    "latex_df = latex_df.sort_index(level=[\"Test\", \"Model\"])\n",
    "experiments += tuple(results_df.index.get_level_values(\"Test\")[results_df.index.get_level_values(\"Test\").str.contains(\"Intersectional\")])\n",
    "def round(s, i='{0:.2f}', sci=False):\n",
    "    return s.apply(\n",
    "        lambda p: i.format(p) if not sci else (\n",
    "            \"$<10^{-3}$\" if p<=0.001 else\n",
    "            \"$<10^{-2}$\" if p<=0.01 else\n",
    "            i.format(p)\n",
    "        )\n",
    "    ).astype(str)\n",
    "latex_df[\"d\"] = round(latex_df.d) #+ latex_df.sig.astype(str)\n",
    "latex_df[\"p\"] = round(latex_df.p, sci=True)\n",
    "latex_df = latex_df.drop(columns=[\"sig\"])\n",
    "\n",
    "original_results = {\n",
    "    \"Age\": 1.23,\n",
    "    \"Arab-Muslim\": 0.33,\n",
    "    \"Asian\": 0.62,\n",
    "    \"Disability\": 1.05,\n",
    "    \"Gender-Career\": 1.10,\n",
    "    \"Gender-Science\": 0.93,\n",
    "    \"Insect-Flower\": 1.35,\n",
    "    \"Native\": 0.46,\n",
    "    \"Race\": 0.86,\n",
    "    \"Religion\": -0.34,\n",
    "    \"Sexuality\": 0.74,\n",
    "    \"Skin-Tone\": 0.73,\n",
    "    \"Weapon\": 1.00,\n",
    "    \"Weight\": 1.83\n",
    "}\n",
    "original = pd.DataFrame.from_dict(original_results, orient='index', columns=[\"IAT $d$\"])\n",
    "latex_df.columns = [f\"${col}$\" for col in latex_df.columns]\n",
    "original.index = original.index.set_names([\"Test\"])\n",
    "latex_df = latex_df.join(original)\n",
    "\n",
    "def models(df, *keys):\n",
    "    return df[\"Model\"].isin(keys)\n",
    "\n",
    "# some filters\n",
    "latex_df = latex_df.reset_index(level=\"Model\")\n",
    "main_experiment = latex_df.index.get_level_values(\"Test\").isin(experiments)\n",
    "intersectional = latex_df.index.get_level_values(\"Test\").str.contains(\"Intersectional\")\n",
    "\n",
    "# some formatters\n",
    "def color_d(x):\n",
    "    d = float(x)\n",
    "    x = str(x)\n",
    "    return \\\n",
    "        f\"\\cellcolor{{d_large}}{x}\" if d > 0.8 else\\\n",
    "        f\"\\cellcolor{{d_medium}}{x}\" if d > 0.5 else\\\n",
    "        f\"\\cellcolor{{d_small}}{x}\" if d > 0.2 else\\\n",
    "        x\n",
    "\n",
    "def model_fmt(x):\n",
    "    return \"iGPT\" if x == \"igpt\" else \"iGPT Logit\" if x == \"igpt-logit\" else \"SimCLR\"\n",
    "\n",
    "class FMT:\n",
    "    def __init__(self):\n",
    "        self.last = None\n",
    "        self.i = 0\n",
    "        self.noskips = True\n",
    "    def test_fmt(self, x):\n",
    "        if self.noskips and x.startswith(\"Intersectional\"):\n",
    "            b = x.strip(\"Intersectional-\").split(\"-\")\n",
    "            i = \"-\".join(b[:-1])\n",
    "            return f\"{i} ({b[-1]})\"\n",
    "        if x == self.last:\n",
    "            return \"\"\n",
    "        self.last = x\n",
    "        if x in [\"Age\", \"Disability\", \"Race\", \"Skin-Tone\", \"Weight\"]:\n",
    "            x += \"\\textsuperscript{\\textdagger}\"\n",
    "        if x in [\"Asian\", \"Native\", \"Weapon\"]:\n",
    "            x += \"\\textsuperscript{$\\mathsection$}\"\n",
    "        return x\n",
    "    def category_format(self, x):\n",
    "        if self.noskips and x == self.last and self.i < 1 and x not in [\"white-male\", \"black-male\", \"white-female\", \"black-female\"]:\n",
    "            self.i += 1\n",
    "            return \"\"\n",
    "        else:\n",
    "            self.last = x\n",
    "            self.i = 0\n",
    "        x = x.capitalize()\n",
    "        cats_fmt = {\n",
    "            \"Other-people\": \"Other\",\n",
    "            \"Arab-muslim\": \"Arab-Muslim\",\n",
    "            \"European-american\": \"European American\",\n",
    "            \"Asian-american\": \"Asian American\",\n",
    "            \"Euro\": \"European American\",\n",
    "            \"Native\": \"Native American\",\n",
    "            \"African-american\": \"African American\",\n",
    "            \"Liberal-arts\": \"Liberal Arts\",\n",
    "            \"Us\": \"U.S.\",\n",
    "            \"Tool-modern\": \"Tool\",\n",
    "            \"Weapon-modern\": \"Weapon\",\n",
    "            \"Black-female\": \"Black Female\",\n",
    "            \"Black-male\": \"Black Male\",\n",
    "            \"White-female\": \"White Female\",\n",
    "            \"White-male\": \"White Male\"\n",
    "        }\n",
    "        return cats_fmt.get(x) if cats_fmt.get(x) is not None else x\n",
    "    def n_fmt(self, x):\n",
    "        if self.noskips and x == self.last and self.i < 1:\n",
    "            self.i += 1\n",
    "            return \"\"\n",
    "        else:\n",
    "            self.last = x\n",
    "            self.i = 0\n",
    "            return x\n",
    "\n",
    "fmter = FMT()\n",
    "    \n",
    "# main results\n",
    "cols = [\"$X$\", \"$Y$\", \"$A$\", \"$B$\", \"$n_t$\", \"$n_a$\", \"Model\", \"$d$\", \"$p$\", \"IAT $d$\"]\n",
    "results_table = latex_df[main_experiment & ~intersectional & models(latex_df, \"igpt\", \"simclr\")][cols]\n",
    "display(results_table)\n",
    "results_table.index = [fmter.test_fmt(x) for x in results_table.index]\n",
    "results_table.to_latex('output/results.tex', escape=False, na_rep=\"N/A\",\n",
    "    formatters={\n",
    "        \"$d$\": color_d, \n",
    "        \"IAT $d$\": color_d,\n",
    "        \"$X$\": fmter.category_format,\n",
    "        \"$Y$\": fmter.category_format,\n",
    "        \"$A$\": fmter.category_format,\n",
    "        \"$B$\": fmter.category_format,\n",
    "        \"Model\": model_fmt,\n",
    "        \"$n_t$\": fmter.n_fmt,\n",
    "        \"$n_a$\": fmter.n_fmt\n",
    "    }\n",
    ")\n",
    "\n",
    "# logit results\n",
    "cols = [c for c in cols if c not in (\"Model\", \"IAT $d$\")]\n",
    "logit_table = latex_df[main_experiment & ~intersectional & models(latex_df, \"igpt-logit\")][cols]\n",
    "display(logit_table)\n",
    "logit_table.index = [fmter.test_fmt(x) for x in logit_table.index]\n",
    "fmter.noskips = False\n",
    "logit_table.to_latex('output/logit.tex', escape=False,\n",
    "    formatters={\n",
    "        \"$d$\": color_d, \n",
    "        \"$X$\": fmter.category_format,\n",
    "        \"$Y$\": fmter.category_format,\n",
    "        \"$A$\": fmter.category_format,\n",
    "        \"$B$\": fmter.category_format,\n",
    "        \"$n_t$\": fmter.n_fmt,\n",
    "        \"$n_a$\": fmter.n_fmt\n",
    "    }\n",
    ")\n",
    "\n",
    "# intersectional results\n",
    "cols = [\"$X$\", \"$Y$\", \"$A$\", \"$B$\", \"$n_t$\", \"$n_a$\", \"$d$\", \"$p$\"]\n",
    "fmter.noskips = True\n",
    "intersectional_table = latex_df[main_experiment & intersectional & models(latex_df, \"igpt\")][cols]\n",
    "display(intersectional_table)\n",
    "intersectional_table.index = [fmter.test_fmt(x) for x in intersectional_table.index]\n",
    "intersectional_table.to_latex('output/intersectional.tex', escape=False, \n",
    "    formatters={\n",
    "        \"$d$\": color_d, \n",
    "        \"$X$\": fmter.category_format,\n",
    "        \"$Y$\": fmter.category_format,\n",
    "        \"$A$\": fmter.category_format,\n",
    "        \"$B$\": fmter.category_format,\n",
    "        \"Test\": intersectional_fmt\n",
    "#         \"$n_t$\": fmter.n_fmt,\n",
    "#         \"$n_a$\": fmter.n_fmt\n",
    "    }\n",
    ")\n",
    "\n",
    "# table of iats w/ categories\n",
    "# iats_table = latex_df.groupby(\"Test\").head(1)\\\n",
    "#     .drop(columns=[\"$d$\", \"$p$\", \"$n_t$\", \"$n_a$\", \"Model\"])\n",
    "# display(iats_table)\n",
    "# iats_table.to_latex('output/iats.tex', escape=False, multirow=True)\n",
    "\n",
    "# stimuli table\n",
    "stimuli = pd.read_csv(\"data/stimuli.csv\")\n",
    "stimuli.dropna(axis=0, subset=[\"Word\", \"Source\"])\\\n",
    "    .drop(columns=\"Collected (N=n)\").set_index([\"IAT\", \"Category\"]).to_latex(\"output/stimuli.tex\")"
   ]
  },
  {
   "cell_type": "markdown",
   "metadata": {
    "id": "7gYnQK4vxvhe"
   },
   "source": [
    "test(\n",
    "    \"data/experiments/native/euro\",\n",
    "    \"data/experiments/native/native\",\n",
    "    \"data/experiments/native/us\",\n",
    "    \"data/experiments/native/world\",\n",
    "    model_type=\"openai\", \n",
    "    model_size=model_size,\n",
    "    models_dir=models_dir,\n",
    "    clusters_dir=color_clusters_dir,\n",
    "    n_px=n_px\n",
    "#     from_cache=False\n",
    ")"
   ]
  },
  {
   "cell_type": "code",
   "execution_count": null,
   "metadata": {
    "id": "VFg-zm4Ixvhe"
   },
   "outputs": [],
   "source": [
    "from ieat.api import test\n",
    "\n",
    "test(\n",
    "    \"data/experiments/skin-tone/light\",\n",
    "    \"data/experiments/skin-tone/dark\",\n",
    "    \"data/experiments/valence/pleasant\",\n",
    "    \"data/experiments/valence/unpleasant\",\n",
    "    model_type=\"openai\", \n",
    "    model_size=model_size,\n",
    "    models_dir=models_dir,\n",
    "    clusters_dir=color_clusters_dir,\n",
    "    n_px=n_px,\n",
    "#     from_cache=False,\n",
    "    verbose=True\n",
    ")"
   ]
  },
  {
   "cell_type": "markdown",
   "metadata": {
    "id": "kqoUJ9_oxvhh"
   },
   "source": [
    "#### Disability"
   ]
  },
  {
   "cell_type": "code",
   "execution_count": null,
   "metadata": {
    "id": "nLLGZcCRxvhh"
   },
   "outputs": [],
   "source": [
    "from ieat.api import test\n",
    "\n",
    "test(\n",
    "    \"data/experiments/disabled/disabled\",\n",
    "    \"data/experiments/disabled/abled\",\n",
    "    \"data/experiments/valence/pleasant\",\n",
    "    \"data/experiments/valence/unpleasant\",\n",
    "    model_type=\"openai\", \n",
    "    model_size=model_size,\n",
    "    models_dir=models_dir,\n",
    "    clusters_dir=color_clusters_dir,\n",
    "    n_px=n_px,\n",
    "#     from_cache=False,\n",
    "    verbose=True\n",
    ")"
   ]
  },
  {
   "cell_type": "markdown",
   "metadata": {
    "id": "VX-5Fpk2xvhl"
   },
   "source": [
    "#### Presidents"
   ]
  },
  {
   "cell_type": "code",
   "execution_count": null,
   "metadata": {
    "id": "qPYAHFFGxvhm"
   },
   "outputs": [],
   "source": [
    "from ieat.api import test\n",
    "\n",
    "test(\n",
    "    \"data/experiments/presidents/trump\",\n",
    "    \"data/experiments/presidents/kennedy\",\n",
    "    \"data/experiments/valence/pleasant\",\n",
    "    \"data/experiments/valence/unpleasant\",\n",
    "    model_type=\"openai\", \n",
    "    model_size=model_size,\n",
    "    models_dir=models_dir,\n",
    "    clusters_dir=color_clusters_dir,\n",
    "    n_px=n_px,\n",
    "#     from_cache=False,\n",
    "    verbose=True\n",
    ")"
   ]
  },
  {
   "cell_type": "code",
   "execution_count": null,
   "metadata": {
    "id": "zqSZmD4Rxvho"
   },
   "outputs": [],
   "source": [
    "from ieat.api import test\n",
    "\n",
    "test(\n",
    "    \"data/experiments/presidents/trump\",\n",
    "    \"data/experiments/presidents/clinton\",\n",
    "    \"data/experiments/valence/pleasant\",\n",
    "    \"data/experiments/valence/unpleasant\",\n",
    "    model_type=\"openai\", \n",
    "    model_size=model_size,\n",
    "    models_dir=models_dir,\n",
    "    clusters_dir=color_clusters_dir,\n",
    "    n_px=n_px,\n",
    "#     from_cache=False,\n",
    "    verbose=True\n",
    ")"
   ]
  },
  {
   "cell_type": "code",
   "execution_count": null,
   "metadata": {
    "id": "L6HNE0bvxvhq"
   },
   "outputs": [],
   "source": [
    "from ieat.api import test\n",
    "\n",
    "test(\n",
    "    \"data/experiments/presidents/trump\",\n",
    "    \"data/experiments/presidents/bush\",\n",
    "    \"data/experiments/valence/pleasant\",\n",
    "    \"data/experiments/valence/unpleasant\",\n",
    "    model_type=\"openai\", \n",
    "    model_size=model_size,\n",
    "    models_dir=models_dir,\n",
    "    clusters_dir=color_clusters_dir,\n",
    "    n_px=n_px,\n",
    "#     from_cache=False,\n",
    "    verbose=True\n",
    ")"
   ]
  },
  {
   "cell_type": "code",
   "execution_count": null,
   "metadata": {
    "id": "oTOxt8Y5xvhs"
   },
   "outputs": [],
   "source": [
    "from ieat.api import test\n",
    "\n",
    "test(\n",
    "    \"data/experiments/presidents/trump\",\n",
    "    \"data/experiments/presidents/lincoln\",\n",
    "    \"data/experiments/valence/pleasant\",\n",
    "    \"data/experiments/valence/unpleasant\",\n",
    "    model_type=\"openai\", \n",
    "    model_size=model_size,\n",
    "    models_dir=models_dir,\n",
    "    clusters_dir=color_clusters_dir,\n",
    "    n_px=n_px,\n",
    "#     from_cache=False,\n",
    "    verbose=True\n",
    ")"
   ]
  },
  {
   "cell_type": "markdown",
   "metadata": {
    "id": "ErIbgFMXxvhu"
   },
   "source": [
    "#### Religion"
   ]
  },
  {
   "cell_type": "code",
   "execution_count": null,
   "metadata": {
    "id": "VvAe-DuUxvhu"
   },
   "outputs": [],
   "source": [
    "from ieat.api import test\n",
    "\n",
    "test(\n",
    "    \"data/experiments/religion/christianity\",\n",
    "    \"data/experiments/religion/judaism\",\n",
    "    \"data/experiments/valence/pleasant\",\n",
    "    \"data/experiments/valence/unpleasant\",\n",
    "    model_type=\"openai\", \n",
    "    model_size=model_size,\n",
    "    models_dir=models_dir,\n",
    "    clusters_dir=color_clusters_dir,\n",
    "    n_px=n_px,\n",
    "#     from_cache=False,\n",
    "    verbose=True\n",
    ")"
   ]
  },
  {
   "cell_type": "markdown",
   "metadata": {
    "id": "gt3GfXoYxvhw"
   },
   "source": [
    "#### Gender-Science"
   ]
  },
  {
   "cell_type": "code",
   "execution_count": null,
   "metadata": {
    "id": "2zs-M-ezxvhx"
   },
   "outputs": [],
   "source": [
    "from ieat.api import test\n",
    "\n",
    "test(\n",
    "    \"data/experiments/gender/science\",\n",
    "    \"data/experiments/gender/liberal-arts\",\n",
    "    \"data/experiments/gender/male\",\n",
    "    \"data/experiments/gender/female\",\n",
    "    model_type=\"openai\", \n",
    "    model_size=model_size,\n",
    "    models_dir=models_dir,\n",
    "    clusters_dir=color_clusters_dir,\n",
    "    n_px=n_px,\n",
    "#     from_cache=False,\n",
    "    verbose=True\n",
    ")"
   ]
  },
  {
   "cell_type": "markdown",
   "metadata": {
    "id": "BXbraCTvxvhy"
   },
   "source": [
    "#### Gender-Career"
   ]
  },
  {
   "cell_type": "code",
   "execution_count": null,
   "metadata": {
    "id": "wmICFKRhxvhz"
   },
   "outputs": [],
   "source": [
    "from ieat.api import test\n",
    "\n",
    "test(\n",
    "    \"data/experiments/gender/career\",\n",
    "    \"data/experiments/gender/family\",\n",
    "    \"data/experiments/gender/male\",\n",
    "    \"data/experiments/gender/female\",\n",
    "    model_type=\"openai\", \n",
    "    model_size=model_size,\n",
    "    models_dir=models_dir,\n",
    "    clusters_dir=color_clusters_dir,\n",
    "    n_px=n_px,\n",
    "#     from_cache=False,\n",
    "    verbose=True\n",
    ")"
   ]
  },
  {
   "cell_type": "markdown",
   "metadata": {
    "id": "_BI1Gxc4xvh1"
   },
   "source": [
    "#### Sexuality"
   ]
  },
  {
   "cell_type": "code",
   "execution_count": null,
   "metadata": {
    "id": "6qhiTy3Rxvh2"
   },
   "outputs": [],
   "source": [
    "from ieat.api import test\n",
    "\n",
    "test(\n",
    "    \"data/experiments/sexuality/gay\",\n",
    "    \"data/experiments/sexuality/straight\",\n",
    "    \"data/experiments/valence/pleasant\",\n",
    "    \"data/experiments/valence/unpleasant\",\n",
    "    model_type=\"openai\", \n",
    "    model_size=model_size,\n",
    "    models_dir=models_dir,\n",
    "    clusters_dir=color_clusters_dir,\n",
    "    n_px=n_px,\n",
    "#     from_cache=False,\n",
    "    verbose=True\n",
    ")"
   ]
  },
  {
   "cell_type": "markdown",
   "metadata": {
    "id": "7VIIIFfpxvh3"
   },
   "source": [
    "#### Race"
   ]
  },
  {
   "cell_type": "code",
   "execution_count": null,
   "metadata": {
    "id": "fSuQzadOxvh4"
   },
   "outputs": [],
   "source": [
    "from ieat.api import test\n",
    "\n",
    "test(\n",
    "    \"data/experiments/race/african-american\",\n",
    "    \"data/experiments/race/european-american\",\n",
    "    \"data/experiments/valence/pleasant\",\n",
    "    \"data/experiments/valence/unpleasant\",\n",
    "    model_type=\"openai\", \n",
    "    model_size=model_size,\n",
    "    models_dir=models_dir,\n",
    "    clusters_dir=color_clusters_dir,\n",
    "    n_px=n_px,\n",
    "#     from_cache=False,\n",
    "    verbose=True\n",
    ")"
   ]
  },
  {
   "cell_type": "markdown",
   "metadata": {
    "id": "xA_AwxiKxvh5"
   },
   "source": [
    "#### Arab-Muslim"
   ]
  },
  {
   "cell_type": "code",
   "execution_count": null,
   "metadata": {
    "id": "dAvppwCJxvh6"
   },
   "outputs": [],
   "source": [
    "from ieat.api import test\n",
    "\n",
    "test(\n",
    "    \"data/experiments/arab-muslim/other-people\",\n",
    "    \"data/experiments/arab-muslim/arab-muslim\",\n",
    "    \"data/experiments/valence/pleasant\",\n",
    "    \"data/experiments/valence/unpleasant\",\n",
    "    model_type=\"openai\", \n",
    "    model_size=model_size,\n",
    "    models_dir=models_dir,\n",
    "    clusters_dir=color_clusters_dir,\n",
    "    n_px=n_px,\n",
    "#     from_cache=False,\n",
    "    verbose=True\n",
    ")"
   ]
  },
  {
   "cell_type": "markdown",
   "metadata": {
    "id": "R-fdCFqQxvh8"
   },
   "source": [
    "#### Age"
   ]
  },
  {
   "cell_type": "code",
   "execution_count": null,
   "metadata": {
    "id": "lVB-Wne_xvh8"
   },
   "outputs": [],
   "source": [
    "from ieat.api import test\n",
    "\n",
    "test(\n",
    "    \"data/experiments/age/young\",\n",
    "    \"data/experiments/age/old\",\n",
    "    \"data/experiments/valence/pleasant\",\n",
    "    \"data/experiments/valence/unpleasant\",\n",
    "    model_type=\"openai\", \n",
    "    model_size=model_size,\n",
    "    models_dir=models_dir,\n",
    "    clusters_dir=color_clusters_dir,\n",
    "    n_px=n_px,\n",
    "#     from_cache=False,\n",
    "    verbose=True\n",
    ")"
   ]
  },
  {
   "cell_type": "markdown",
   "metadata": {
    "id": "SpKVucUpxvh-"
   },
   "source": [
    "### Download Cached Embeddings"
   ]
  },
  {
   "cell_type": "code",
   "execution_count": null,
   "metadata": {
    "id": "EfMcw700xvh-"
   },
   "outputs": [],
   "source": [
    "# to download from colab\n",
    "from google.colab import files\n",
    "\n",
    "!zip -r embeddings_colab.zip embeddings\n",
    "files.download(\"embeddings_colab.zip\")"
   ]
  },
  {
   "cell_type": "code",
   "execution_count": null,
   "metadata": {
    "id": "GnG7quNVxviA"
   },
   "outputs": [],
   "source": []
  }
 ],
 "metadata": {
  "colab": {
   "collapsed_sections": [],
   "machine_shape": "hm",
   "name": "Image-GPT-Bias-HuggingFace.ipynb",
   "provenance": [],
   "toc_visible": true
  },
  "kernelspec": {
   "display_name": "Python 3",
   "language": "python",
   "name": "python3"
  },
  "language_info": {
   "codemirror_mode": {
    "name": "ipython",
    "version": 3
   },
   "file_extension": ".py",
   "mimetype": "text/x-python",
   "name": "python",
   "nbconvert_exporter": "python",
   "pygments_lexer": "ipython3",
   "version": "3.8.6"
  },
  "pycharm": {
   "stem_cell": {
    "cell_type": "raw",
    "source": [],
    "metadata": {
     "collapsed": false
    }
   }
  },
  "require": {
   "paths": {
    "buttons.colvis": "https://cdn.datatables.net/buttons/1.5.6/js/buttons.colVis.min",
    "buttons.flash": "https://cdn.datatables.net/buttons/1.5.6/js/buttons.flash.min",
    "buttons.html5": "https://cdn.datatables.net/buttons/1.5.6/js/buttons.html5.min",
    "buttons.print": "https://cdn.datatables.net/buttons/1.5.6/js/buttons.print.min",
    "chartjs": "https://cdnjs.cloudflare.com/ajax/libs/Chart.js/2.8.0/Chart",
    "d3": "https://d3js.org/d3.v5.min",
    "d3-array": "https://d3js.org/d3-array.v2.min",
    "datatables.net": "https://cdn.datatables.net/1.10.18/js/jquery.dataTables",
    "datatables.net-buttons": "https://cdn.datatables.net/buttons/1.5.6/js/dataTables.buttons.min",
    "datatables.responsive": "https://cdn.datatables.net/responsive/2.2.2/js/dataTables.responsive.min",
    "datatables.scroller": "https://cdn.datatables.net/scroller/2.0.0/js/dataTables.scroller.min",
    "datatables.select": "https://cdn.datatables.net/select/1.3.0/js/dataTables.select.min",
    "jszip": "https://cdnjs.cloudflare.com/ajax/libs/jszip/2.5.0/jszip.min",
    "moment": "https://cdnjs.cloudflare.com/ajax/libs/moment.js/2.8.0/moment",
    "pdfmake": "https://cdnjs.cloudflare.com/ajax/libs/pdfmake/0.1.36/pdfmake.min",
    "vfsfonts": "https://cdnjs.cloudflare.com/ajax/libs/pdfmake/0.1.36/vfs_fonts"
   },
   "shim": {
    "buttons.colvis": {
     "deps": [
      "jszip",
      "datatables.net-buttons"
     ]
    },
    "buttons.flash": {
     "deps": [
      "jszip",
      "datatables.net-buttons"
     ]
    },
    "buttons.html5": {
     "deps": [
      "jszip",
      "datatables.net-buttons"
     ]
    },
    "buttons.print": {
     "deps": [
      "jszip",
      "datatables.net-buttons"
     ]
    },
    "chartjs": {
     "deps": [
      "moment"
     ]
    },
    "datatables.net": {
     "exports": "$.fn.dataTable"
    },
    "datatables.net-buttons": {
     "deps": [
      "datatables.net"
     ]
    },
    "pdfmake": {
     "deps": [
      "datatables.net"
     ]
    },
    "vfsfonts": {
     "deps": [
      "datatables.net"
     ]
    }
   }
  }
 },
 "nbformat": 4,
 "nbformat_minor": 1
}